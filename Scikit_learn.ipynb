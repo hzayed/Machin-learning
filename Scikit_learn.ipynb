{
  "nbformat": 4,
  "nbformat_minor": 0,
  "metadata": {
    "colab": {
      "name": " Scikit-learn.ipynb",
      "provenance": []
    },
    "kernelspec": {
      "name": "python3",
      "display_name": "Python 3"
    },
    "language_info": {
      "name": "python"
    }
  },
  "cells": [
    {
      "cell_type": "code",
      "metadata": {
        "id": "P6jRNVpOhvAw"
      },
      "source": [
        "\n",
        "import pandas as pd\n",
        "import matplotlib.pyplot as plt\n",
        "# required if you use Google Colab\n",
        "import io \n"
      ],
      "execution_count": 6,
      "outputs": []
    },
    {
      "cell_type": "code",
      "metadata": {
        "colab": {
          "resources": {
            "http://localhost:8080/nbextensions/google.colab/files.js": {
              "data": "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",
              "ok": true,
              "headers": [
                [
                  "content-type",
                  "application/javascript"
                ]
              ],
              "status": 200,
              "status_text": ""
            }
          },
          "base_uri": "https://localhost:8080/",
          "height": 569
        },
        "id": "HVypWqMxjsf-",
        "outputId": "bc136eff-1cb1-4f7d-8814-fcce70215165"
      },
      "source": [
        "from google.colab.patches import cv2_imshow\n",
        "from google.colab import files\n",
        "uploaded =files.upload()\n",
        "df =pd.read_csv(io.BytesIO(uploaded['jamalon dataset.csv']))\n",
        "df.head(15)"
      ],
      "execution_count": 15,
      "outputs": [
        {
          "output_type": "display_data",
          "data": {
            "text/html": [
              "\n",
              "     <input type=\"file\" id=\"files-e2a87734-a3e3-422b-9c76-a4dade59504a\" name=\"files[]\" multiple disabled\n",
              "        style=\"border:none\" />\n",
              "     <output id=\"result-e2a87734-a3e3-422b-9c76-a4dade59504a\">\n",
              "      Upload widget is only available when the cell has been executed in the\n",
              "      current browser session. Please rerun this cell to enable.\n",
              "      </output>\n",
              "      <script src=\"/nbextensions/google.colab/files.js\"></script> "
            ],
            "text/plain": [
              "<IPython.core.display.HTML object>"
            ]
          },
          "metadata": {}
        },
        {
          "output_type": "stream",
          "name": "stdout",
          "text": [
            "Saving jamalon dataset.csv to jamalon dataset.csv\n"
          ]
        },
        {
          "output_type": "execute_result",
          "data": {
            "text/html": [
              "<div>\n",
              "<style scoped>\n",
              "    .dataframe tbody tr th:only-of-type {\n",
              "        vertical-align: middle;\n",
              "    }\n",
              "\n",
              "    .dataframe tbody tr th {\n",
              "        vertical-align: top;\n",
              "    }\n",
              "\n",
              "    .dataframe thead th {\n",
              "        text-align: right;\n",
              "    }\n",
              "</style>\n",
              "<table border=\"1\" class=\"dataframe\">\n",
              "  <thead>\n",
              "    <tr style=\"text-align: right;\">\n",
              "      <th></th>\n",
              "      <th>Unnamed: 0</th>\n",
              "      <th>Title</th>\n",
              "      <th>Author</th>\n",
              "      <th>Description</th>\n",
              "      <th>Pages</th>\n",
              "      <th>Publication year</th>\n",
              "      <th>Publisher</th>\n",
              "      <th>Cover</th>\n",
              "      <th>Category</th>\n",
              "      <th>Subcategory</th>\n",
              "      <th>Price</th>\n",
              "    </tr>\n",
              "  </thead>\n",
              "  <tbody>\n",
              "    <tr>\n",
              "      <th>0</th>\n",
              "      <td>0</td>\n",
              "      <td>فى فقه الصراع على القدس وفلسطين</td>\n",
              "      <td>محمد عمارة</td>\n",
              "      <td>الإسلامية كانت القدس رمز الصراع وبوابة الانتص...</td>\n",
              "      <td>180</td>\n",
              "      <td>2006</td>\n",
              "      <td>دار الشروق – مصر</td>\n",
              "      <td>غلاف ورقي</td>\n",
              "      <td>الأدب والخيال</td>\n",
              "      <td>الأدب الإسلامي</td>\n",
              "      <td>15.00</td>\n",
              "    </tr>\n",
              "    <tr>\n",
              "      <th>1</th>\n",
              "      <td>1</td>\n",
              "      <td>الرد على شبهات المستشرقين في السيرة النبوية(3)</td>\n",
              "      <td>محمد بن عبد الرزاق اسود</td>\n",
              "      <td>None</td>\n",
              "      <td>86</td>\n",
              "      <td>2017</td>\n",
              "      <td>دار طيبة للنشر والتوزيع</td>\n",
              "      <td>غلاف ورقي</td>\n",
              "      <td>الأدب والخيال</td>\n",
              "      <td>الأدب الإسلامي</td>\n",
              "      <td>15.00</td>\n",
              "    </tr>\n",
              "    <tr>\n",
              "      <th>2</th>\n",
              "      <td>2</td>\n",
              "      <td>القصص التربوية عند الشيخ محمد تقي فلسفي</td>\n",
              "      <td>لطيف الراشدي</td>\n",
              "      <td>None</td>\n",
              "      <td>420</td>\n",
              "      <td>0</td>\n",
              "      <td>دار الكاتب العربي للطباعة والنشر</td>\n",
              "      <td>غلاف كرتوني</td>\n",
              "      <td>الأدب والخيال</td>\n",
              "      <td>الأدب الإسلامي</td>\n",
              "      <td>37.50</td>\n",
              "    </tr>\n",
              "    <tr>\n",
              "      <th>3</th>\n",
              "      <td>3</td>\n",
              "      <td>باب السلام</td>\n",
              "      <td>الأستاذ الدكتور عبدالوهاب إبراهيم أبو سليمان</td>\n",
              "      <td>None</td>\n",
              "      <td>494</td>\n",
              "      <td>2013</td>\n",
              "      <td>تارة الدولية</td>\n",
              "      <td>غلاف ورقي</td>\n",
              "      <td>الأدب والخيال</td>\n",
              "      <td>الأدب الإسلامي</td>\n",
              "      <td>100.02</td>\n",
              "    </tr>\n",
              "    <tr>\n",
              "      <th>4</th>\n",
              "      <td>4</td>\n",
              "      <td>تسبيح الروح</td>\n",
              "      <td>طراد حمادة</td>\n",
              "      <td>None</td>\n",
              "      <td>144</td>\n",
              "      <td>0</td>\n",
              "      <td>دار العلم للطباعة والنشر والتوزيع</td>\n",
              "      <td>غلاف عادي</td>\n",
              "      <td>الأدب والخيال</td>\n",
              "      <td>الأدب الإسلامي</td>\n",
              "      <td>18.75</td>\n",
              "    </tr>\n",
              "    <tr>\n",
              "      <th>5</th>\n",
              "      <td>5</td>\n",
              "      <td>خمسون وسيلة لسلامة الصدر</td>\n",
              "      <td>سعد الطخيس</td>\n",
              "      <td>None</td>\n",
              "      <td>184</td>\n",
              "      <td>2016</td>\n",
              "      <td>دار الحضارة للنشر والتوزيع</td>\n",
              "      <td>غلاف كرتوني</td>\n",
              "      <td>الأدب والخيال</td>\n",
              "      <td>الأدب الإسلامي</td>\n",
              "      <td>19.88</td>\n",
              "    </tr>\n",
              "    <tr>\n",
              "      <th>6</th>\n",
              "      <td>6</td>\n",
              "      <td>عذراء قريش</td>\n",
              "      <td>جرجي زيدان</td>\n",
              "      <td>روايات تاريخ الإسلام\" سلسلة من الروايات التار...</td>\n",
              "      <td>176</td>\n",
              "      <td>0</td>\n",
              "      <td>دار البشير للطباعة والنشر والتوزيع</td>\n",
              "      <td>غلاف عادي</td>\n",
              "      <td>الأدب والخيال</td>\n",
              "      <td>الأدب الإسلامي</td>\n",
              "      <td>18.75</td>\n",
              "    </tr>\n",
              "    <tr>\n",
              "      <th>7</th>\n",
              "      <td>7</td>\n",
              "      <td>التحفة في أحكام العمرة والمسجد الحرام</td>\n",
              "      <td>فهد العماري</td>\n",
              "      <td>None</td>\n",
              "      <td>358</td>\n",
              "      <td>2017</td>\n",
              "      <td>دار الحضارة للنشر والتوزيع _ السعودية</td>\n",
              "      <td>غلاف ورقي</td>\n",
              "      <td>الأدب والخيال</td>\n",
              "      <td>الأدب الإسلامي</td>\n",
              "      <td>19.88</td>\n",
              "    </tr>\n",
              "    <tr>\n",
              "      <th>8</th>\n",
              "      <td>10</td>\n",
              "      <td>رعاية المقاصد في فقه ابي بكر الصديق</td>\n",
              "      <td>التلمساني</td>\n",
              "      <td>None</td>\n",
              "      <td>140</td>\n",
              "      <td>2017</td>\n",
              "      <td>دار طيبة للنشر والتوزيع</td>\n",
              "      <td>غلاف ورقي</td>\n",
              "      <td>الأدب والخيال</td>\n",
              "      <td>الأدب الإسلامي</td>\n",
              "      <td>18.75</td>\n",
              "    </tr>\n",
              "    <tr>\n",
              "      <th>9</th>\n",
              "      <td>11</td>\n",
              "      <td>المدخل إلى علوم نهج البلاغة</td>\n",
              "      <td>محسن باقر الموسوي</td>\n",
              "      <td>None</td>\n",
              "      <td>432</td>\n",
              "      <td>0</td>\n",
              "      <td>دار العلوم للتحقيق والطباعة والنشر</td>\n",
              "      <td>غلاف كرتوني</td>\n",
              "      <td>الأدب والخيال</td>\n",
              "      <td>الأدب الإسلامي</td>\n",
              "      <td>33.75</td>\n",
              "    </tr>\n",
              "    <tr>\n",
              "      <th>10</th>\n",
              "      <td>12</td>\n",
              "      <td>خمسة نصوص إسلامية نادرة في معجزات الرسول وفضا...</td>\n",
              "      <td>زين الدين شعبان بن محمد الآثاري</td>\n",
              "      <td>None</td>\n",
              "      <td>71</td>\n",
              "      <td>0</td>\n",
              "      <td>دار الغرب الإسلامي</td>\n",
              "      <td>غلاف عادي</td>\n",
              "      <td>الأدب والخيال</td>\n",
              "      <td>الأدب الإسلامي</td>\n",
              "      <td>15.00</td>\n",
              "    </tr>\n",
              "    <tr>\n",
              "      <th>11</th>\n",
              "      <td>13</td>\n",
              "      <td>قواعد النجاح السبع في السبع المثاني</td>\n",
              "      <td>فوزية  الشدي</td>\n",
              "      <td>None</td>\n",
              "      <td>60</td>\n",
              "      <td>2016</td>\n",
              "      <td>دار الحضارة للنشر والتوزيع</td>\n",
              "      <td>غلاف ورقي</td>\n",
              "      <td>الأدب والخيال</td>\n",
              "      <td>الأدب الإسلامي</td>\n",
              "      <td>4.88</td>\n",
              "    </tr>\n",
              "    <tr>\n",
              "      <th>12</th>\n",
              "      <td>14</td>\n",
              "      <td>علوم نهج البلاغة</td>\n",
              "      <td>محسن باقر الموسوي</td>\n",
              "      <td>None</td>\n",
              "      <td>440</td>\n",
              "      <td>0</td>\n",
              "      <td>دار العلوم للتحقيق والطباعة والنشر</td>\n",
              "      <td>غلاف كرتوني</td>\n",
              "      <td>الأدب والخيال</td>\n",
              "      <td>الأدب الإسلامي</td>\n",
              "      <td>30.00</td>\n",
              "    </tr>\n",
              "    <tr>\n",
              "      <th>13</th>\n",
              "      <td>16</td>\n",
              "      <td>نفحات من الأدب الإسلامي</td>\n",
              "      <td>محمد الصابوني</td>\n",
              "      <td>ھﺬه ﻣﺬﻛﺮات ﻓﻲ اﻷدب اﻹﺳﻼﻣﻲ، وﺿﻌﮫﺎ اﻟﻤﺆﻟﻒ ﻟﻄﻼﺑﻪ...</td>\n",
              "      <td>168</td>\n",
              "      <td>1996</td>\n",
              "      <td>دار البشائر الإسلامية للطباعة والنشر والتوزيع</td>\n",
              "      <td>غلاف ورقي</td>\n",
              "      <td>الأدب والخيال</td>\n",
              "      <td>الأدب الإسلامي</td>\n",
              "      <td>18.75</td>\n",
              "    </tr>\n",
              "    <tr>\n",
              "      <th>14</th>\n",
              "      <td>19</td>\n",
              "      <td>السنة النبوية بين الرافضين و الملتزمين</td>\n",
              "      <td>أ.د. محمد الحاجي</td>\n",
              "      <td>None</td>\n",
              "      <td>120</td>\n",
              "      <td>2009</td>\n",
              "      <td>دار طيبة للنشر والتوزيع</td>\n",
              "      <td>غلاف ورقي</td>\n",
              "      <td>الأدب والخيال</td>\n",
              "      <td>الأدب الإسلامي</td>\n",
              "      <td>18.75</td>\n",
              "    </tr>\n",
              "  </tbody>\n",
              "</table>\n",
              "</div>"
            ],
            "text/plain": [
              "    Unnamed: 0  ...   Price\n",
              "0            0  ...   15.00\n",
              "1            1  ...   15.00\n",
              "2            2  ...   37.50\n",
              "3            3  ...  100.02\n",
              "4            4  ...   18.75\n",
              "5            5  ...   19.88\n",
              "6            6  ...   18.75\n",
              "7            7  ...   19.88\n",
              "8           10  ...   18.75\n",
              "9           11  ...   33.75\n",
              "10          12  ...   15.00\n",
              "11          13  ...    4.88\n",
              "12          14  ...   30.00\n",
              "13          16  ...   18.75\n",
              "14          19  ...   18.75\n",
              "\n",
              "[15 rows x 11 columns]"
            ]
          },
          "metadata": {},
          "execution_count": 15
        }
      ]
    },
    {
      "cell_type": "code",
      "metadata": {
        "colab": {
          "base_uri": "https://localhost:8080/"
        },
        "id": "xEjV_qMxliTq",
        "outputId": "333e97a8-c47d-46f0-e413-c32947bb1bdd"
      },
      "source": [
        "print(df.shape)# number of rows and columns"
      ],
      "execution_count": 16,
      "outputs": [
        {
          "output_type": "stream",
          "name": "stdout",
          "text": [
            "(8986, 11)\n"
          ]
        }
      ]
    },
    {
      "cell_type": "code",
      "metadata": {
        "colab": {
          "base_uri": "https://localhost:8080/"
        },
        "id": "ZmflnL8Zl075",
        "outputId": "bec07012-70ec-48c1-823f-65e8a9c4e354"
      },
      "source": [
        "print(df['Category'].unique()) # determine the type of data inside this column\n"
      ],
      "execution_count": 33,
      "outputs": [
        {
          "output_type": "stream",
          "name": "stdout",
          "text": [
            "['الأدب والخيال' 'التاريخ والجغرافيا' 'الأسرة والطفل' 'الكتب السياسية'\n",
            " 'العلوم والطبيعة' 'الرياضة والتسلية' 'الاقتصاد والأعمال'\n",
            " 'الكتب الإسلامية' 'الصحافة والإعلام' 'الفنون' 'الشرع والقانون' 'الفلسفة'\n",
            " 'السير والمذكرات']\n"
          ]
        }
      ]
    },
    {
      "cell_type": "code",
      "metadata": {
        "id": "yHENFSJfrJST"
      },
      "source": [
        ""
      ],
      "execution_count": null,
      "outputs": []
    },
    {
      "cell_type": "code",
      "metadata": {
        "colab": {
          "base_uri": "https://localhost:8080/"
        },
        "id": "vv4YCD7jnEWy",
        "outputId": "d5102f45-9dd4-440d-e5b6-e1f26d2c3aba"
      },
      "source": [
        "print(df.groupby('Category').size())\n"
      ],
      "execution_count": 32,
      "outputs": [
        {
          "output_type": "stream",
          "name": "stdout",
          "text": [
            "Category\n",
            "الأدب والخيال         1217\n",
            "الأسرة والطفل          710\n",
            "الاقتصاد والأعمال      928\n",
            "التاريخ والجغرافيا     322\n",
            "الرياضة والتسلية       174\n",
            "السير والمذكرات        478\n",
            "الشرع والقانون          85\n",
            "الصحافة والإعلام       904\n",
            "العلوم والطبيعة        870\n",
            "الفلسفة                905\n",
            "الفنون                 438\n",
            "الكتب الإسلامية       1061\n",
            "الكتب السياسية         894\n",
            "dtype: int64\n"
          ]
        }
      ]
    },
    {
      "cell_type": "code",
      "metadata": {
        "colab": {
          "base_uri": "https://localhost:8080/",
          "height": 336
        },
        "id": "No4hOFQIok2D",
        "outputId": "34656446-f1d3-45c3-c607-1b26f8c0d16a"
      },
      "source": [
        "import seaborn as sns\n",
        "sns.countplot(df['Category'],label=\"Count\")\n",
        "plt.show()"
      ],
      "execution_count": 26,
      "outputs": [
        {
          "output_type": "stream",
          "name": "stderr",
          "text": [
            "/usr/local/lib/python3.7/dist-packages/seaborn/_decorators.py:43: FutureWarning: Pass the following variable as a keyword arg: x. From version 0.12, the only valid positional argument will be `data`, and passing other arguments without an explicit keyword will result in an error or misinterpretation.\n",
            "  FutureWarning\n"
          ]
        },
        {
          "output_type": "display_data",
          "data": {
            "image/png": "[encoded data removed]",
            "text/plain": [
              "<Figure size 432x288 with 1 Axes>"
            ]
          },
          "metadata": {
            "needs_background": "light"
          }
        }
      ]
    },
    {
      "cell_type": "code",
      "metadata": {
        "colab": {
          "base_uri": "https://localhost:8080/",
          "height": 602
        },
        "id": "evK4HkyUpvcq",
        "outputId": "bdc48ed0-e67b-4038-820d-0269f20434d5"
      },
      "source": [
        "#Visualization\n",
        "#Box plot for each numeric variable\n",
        "df.drop('Category', axis=1).plot(kind='box', subplots=True, layout=(2,2), sharex=False, sharey=False, figsize=(9,9), \n",
        "         title='Box Plot for each input variable')\n",
        "plt.savefig('Category_box')\n",
        "plt.show()"
      ],
      "execution_count": 31,
      "outputs": [
        {
          "output_type": "display_data",
          "data": {
            "image/png": "[encoded data removed]",
            "text/plain": [
              "<Figure size 648x648 with 4 Axes>"
            ]
          },
          "metadata": {
            "needs_background": "light"
          }
        }
      ]
    },
    {
      "cell_type": "code",
      "metadata": {
        "colab": {
          "base_uri": "https://localhost:8080/",
          "height": 602
        },
        "id": "ww_4YkOWqX_j",
        "outputId": "3a438a2d-7ba2-4542-c86c-7b5bf118e5c6"
      },
      "source": [
        "#It looks like perhaps color score has a near Gaussian distribution\n",
        "import pylab as pl\n",
        "df.drop('Category' ,axis=1).hist(bins=30, figsize=(9,9))\n",
        "pl.suptitle(\"Histogram for each numeric input variable\")\n",
        "plt.savefig('Category_hist')\n",
        "plt.show()"
      ],
      "execution_count": 30,
      "outputs": [
        {
          "output_type": "display_data",
          "data": {
            "image/png": "[encoded data removed]",
            "text/plain": [
              "<Figure size 648x648 with 4 Axes>"
            ]
          },
          "metadata": {
            "needs_background": "light"
          }
        }
      ]
    },
    {
      "cell_type": "code",
      "metadata": {
        "colab": {
          "base_uri": "https://localhost:8080/",
          "height": 631
        },
        "id": "qWJKr_xlrQDR",
        "outputId": "ea458850-d6f7-4ff5-cad0-224d101c457c"
      },
      "source": [
        "#Some pairs of attributes are correlated (pages,publication year ,and price). This suggests a high correlation and a predictable relationship.\n",
        "from pandas.plotting import scatter_matrix\n",
        "from matplotlib import cm\n",
        "feature_names = [ 'Pages', 'Publication year', 'Price']\n",
        "X = df[feature_names]\n",
        "y = df['Category']\n",
        "cmap = cm.get_cmap('gnuplot')\n",
        "scatt= scatter_matrix(X, c = \"y\", marker = 'o', s=40, hist_kwds={'bins':15}, figsize=(9,9), cmap = cmap)\n",
        "plt.suptitle('Scatter-matrix for each input variable')\n",
        "plt.savefig('Category_scatter_matrix')"
      ],
      "execution_count": 41,
      "outputs": [
        {
          "output_type": "display_data",
          "data": {
            "image/png": "[encoded data removed]",
            "text/plain": [
              "<Figure size 648x648 with 9 Axes>"
            ]
          },
          "metadata": {
            "needs_background": "light"
          }
        }
      ]
    },
    {
      "cell_type": "code",
      "metadata": {
        "id": "I18BRsActfRr"
      },
      "source": [
        "#Create Training and Test Sets and Apply Scaling\n",
        "from sklearn.model_selection import train_test_split\n",
        "X_train, X_test, y_train, y_test = train_test_split(X, y, random_state=0)\n",
        "from sklearn.preprocessing import MinMaxScaler\n",
        "scaler = MinMaxScaler()\n",
        "X_train = scaler.fit_transform(X_train)\n",
        "X_test = scaler.transform(X_test)"
      ],
      "execution_count": 43,
      "outputs": []
    },
    {
      "cell_type": "code",
      "metadata": {
        "colab": {
          "base_uri": "https://localhost:8080/"
        },
        "id": "7QD-DRAUt14y",
        "outputId": "8dff7006-06fe-40d4-9612-ce75f3dd0838"
      },
      "source": [
        "#Build Models\n",
        "#Logistic Regression\n",
        "#to get the accuracy\n",
        "from sklearn.linear_model import LogisticRegression\n",
        "logreg = LogisticRegression()\n",
        "logreg.fit(X_train, y_train)\n",
        "print('Accuracy of Logistic regression classifier on training set: {:.2f}'\n",
        "     .format(logreg.score(X_train, y_train)))\n",
        "print('Accuracy of Logistic regression classifier on test set: {:.2f}'\n",
        "     .format(logreg.score(X_test, y_test)))"
      ],
      "execution_count": 44,
      "outputs": [
        {
          "output_type": "stream",
          "name": "stdout",
          "text": [
            "Accuracy of Logistic regression classifier on training set: 0.18\n",
            "Accuracy of Logistic regression classifier on test set: 0.18\n"
          ]
        },
        {
          "output_type": "stream",
          "name": "stderr",
          "text": [
            "/usr/local/lib/python3.7/dist-packages/sklearn/linear_model/_logistic.py:940: ConvergenceWarning: lbfgs failed to converge (status=1):\n",
            "STOP: TOTAL NO. of ITERATIONS REACHED LIMIT.\n",
            "\n",
            "Increase the number of iterations (max_iter) or scale the data as shown in:\n",
            "    https://scikit-learn.org/stable/modules/preprocessing.html\n",
            "Please also refer to the documentation for alternative solver options:\n",
            "    https://scikit-learn.org/stable/modules/linear_model.html#logistic-regression\n",
            "  extra_warning_msg=_LOGISTIC_SOLVER_CONVERGENCE_MSG)\n"
          ]
        }
      ]
    },
    {
      "cell_type": "code",
      "metadata": {
        "colab": {
          "base_uri": "https://localhost:8080/"
        },
        "id": "s4p3xrDDuN4a",
        "outputId": "16a1ecab-5a86-4d1c-8ae0-8a814f4ca871"
      },
      "source": [
        "from sklearn.tree import DecisionTreeClassifier\n",
        "clf = DecisionTreeClassifier().fit(X_train, y_train)\n",
        "print('Accuracy of Decision Tree classifier on training set: {:.2f}'\n",
        "     .format(clf.score(X_train, y_train)))\n",
        "print('Accuracy of Decision Tree classifier on test set: {:.2f}'\n",
        "     .format(clf.score(X_test, y_test)))"
      ],
      "execution_count": 45,
      "outputs": [
        {
          "output_type": "stream",
          "name": "stdout",
          "text": [
            "Accuracy of Decision Tree classifier on training set: 0.95\n",
            "Accuracy of Decision Tree classifier on test set: 0.29\n"
          ]
        }
      ]
    },
    {
      "cell_type": "code",
      "metadata": {
        "colab": {
          "base_uri": "https://localhost:8080/"
        },
        "id": "RXCd42xVuiuz",
        "outputId": "ffc8428a-2cac-4288-9a22-bbf5e7885a6f"
      },
      "source": [
        "#K-Nearest Neighbors\n",
        "from sklearn.neighbors import KNeighborsClassifier\n",
        "knn = KNeighborsClassifier()\n",
        "knn.fit(X_train, y_train)\n",
        "print('Accuracy of K-NN classifier on training set: {:.2f}'\n",
        "     .format(knn.score(X_train, y_train)))\n",
        "print('Accuracy of K-NN classifier on test set: {:.2f}'\n",
        "     .format(knn.score(X_test, y_test)))"
      ],
      "execution_count": 46,
      "outputs": [
        {
          "output_type": "stream",
          "name": "stdout",
          "text": [
            "Accuracy of K-NN classifier on training set: 0.48\n",
            "Accuracy of K-NN classifier on test set: 0.28\n"
          ]
        }
      ]
    },
    {
      "cell_type": "code",
      "metadata": {
        "colab": {
          "base_uri": "https://localhost:8080/"
        },
        "id": "GTQLR4gzu8qL",
        "outputId": "fa3fcbea-9b56-4c09-ef1e-9d7015892dfb"
      },
      "source": [
        "#Linear Discriminant Analysis\n",
        "from sklearn.discriminant_analysis import LinearDiscriminantAnalysis\n",
        "lda = LinearDiscriminantAnalysis()\n",
        "lda.fit(X_train, y_train)\n",
        "print('Accuracy of LDA classifier on training set: {:.2f}'\n",
        "     .format(lda.score(X_train, y_train)))\n",
        "print('Accuracy of LDA classifier on test set: {:.2f}'\n",
        "     .format(lda.score(X_test, y_test)))"
      ],
      "execution_count": 47,
      "outputs": [
        {
          "output_type": "stream",
          "name": "stdout",
          "text": [
            "Accuracy of LDA classifier on training set: 0.18\n",
            "Accuracy of LDA classifier on test set: 0.18\n"
          ]
        }
      ]
    },
    {
      "cell_type": "code",
      "metadata": {
        "colab": {
          "base_uri": "https://localhost:8080/"
        },
        "id": "rNQGc09nvHgy",
        "outputId": "8a9506a2-4afe-468e-be24-3c5eaa437dc5"
      },
      "source": [
        "#Gaussian Naive Bayes\n",
        "from sklearn.naive_bayes import GaussianNB\n",
        "gnb = GaussianNB()\n",
        "gnb.fit(X_train, y_train)\n",
        "print('Accuracy of GNB classifier on training set: {:.2f}'\n",
        "     .format(gnb.score(X_train, y_train)))\n",
        "print('Accuracy of GNB classifier on test set: {:.2f}'\n",
        "     .format(gnb.score(X_test, y_test)))"
      ],
      "execution_count": 48,
      "outputs": [
        {
          "output_type": "stream",
          "name": "stdout",
          "text": [
            "Accuracy of GNB classifier on training set: 0.15\n",
            "Accuracy of GNB classifier on test set: 0.16\n"
          ]
        }
      ]
    },
    {
      "cell_type": "code",
      "metadata": {
        "colab": {
          "base_uri": "https://localhost:8080/"
        },
        "id": "CB1jrcNWvUiz",
        "outputId": "153468d1-c129-46c7-e883-9492b0502d4a"
      },
      "source": [
        "#Support Vector Machine\n",
        "from sklearn.svm import SVC\n",
        "svm = SVC()\n",
        "svm.fit(X_train, y_train)\n",
        "print('Accuracy of SVM classifier on training set: {:.2f}'\n",
        "     .format(svm.score(X_train, y_train)))\n",
        "print('Accuracy of SVM classifier on test set: {:.2f}'\n",
        "     .format(svm.score(X_test, y_test)))"
      ],
      "execution_count": 49,
      "outputs": [
        {
          "output_type": "stream",
          "name": "stdout",
          "text": [
            "Accuracy of SVM classifier on training set: 0.20\n",
            "Accuracy of SVM classifier on test set: 0.20\n"
          ]
        }
      ]
    },
    {
      "cell_type": "code",
      "metadata": {
        "colab": {
          "base_uri": "https://localhost:8080/"
        },
        "id": "qKfLLjiGvfTI",
        "outputId": "6330730f-4627-46c6-f021-0a3a63d999cc"
      },
      "source": [
        "from sklearn.metrics import classification_report\n",
        "from sklearn.metrics import confusion_matrix\n",
        "pred = knn.predict(X_test)\n",
        "print(confusion_matrix(y_test, pred))\n",
        "print(classification_report(y_test, pred))"
      ],
      "execution_count": 50,
      "outputs": [
        {
          "output_type": "stream",
          "name": "stdout",
          "text": [
            "[[172  20  17   8   2   3   1  13   6  28   7  10  20]\n",
            " [ 55  64   6   5   3   2   0   7   9  16   3   4   7]\n",
            " [ 28  10  87   2   2   4   3  17  21  21   5  13  21]\n",
            " [ 15   4  12  15   0   1   0  10   6   2   5   1   8]\n",
            " [ 10   4   3   3   7   2   2   3   5   3   3   5   3]\n",
            " [ 17   3  16   1   0  19   0   5   6  22   1  13   6]\n",
            " [  1   0   2   1   0   0   7   3   2   0   0   0   1]\n",
            " [ 24   6  37   9   1   7   5  72  18   8   7   8  12]\n",
            " [ 33  14  48   5   1  11   3  21  34   9   1  16  17]\n",
            " [ 48  17  19   4   2  27   1  10  10  57   4  22  15]\n",
            " [ 29  12  10   4   0   3   0  15   9   5   6  13   8]\n",
            " [ 63   5  35   8   7  19   3  28  18  28   6  43   8]\n",
            " [ 41  10  32  10   1   9   2  20  13  18   3  11  49]]\n",
            "                    precision    recall  f1-score   support\n",
            "\n",
            "     الأدب والخيال       0.32      0.56      0.41       307\n",
            "     الأسرة والطفل       0.38      0.35      0.37       181\n",
            " الاقتصاد والأعمال       0.27      0.37      0.31       234\n",
            "التاريخ والجغرافيا       0.20      0.19      0.19        79\n",
            "  الرياضة والتسلية       0.27      0.13      0.18        53\n",
            "   السير والمذكرات       0.18      0.17      0.18       109\n",
            "    الشرع والقانون       0.26      0.41      0.32        17\n",
            "  الصحافة والإعلام       0.32      0.34      0.33       214\n",
            "   العلوم والطبيعة       0.22      0.16      0.18       213\n",
            "           الفلسفة       0.26      0.24      0.25       236\n",
            "            الفنون       0.12      0.05      0.07       114\n",
            "   الكتب الإسلامية       0.27      0.16      0.20       271\n",
            "    الكتب السياسية       0.28      0.22      0.25       219\n",
            "\n",
            "          accuracy                           0.28      2247\n",
            "         macro avg       0.26      0.26      0.25      2247\n",
            "      weighted avg       0.27      0.28      0.27      2247\n",
            "\n"
          ]
        }
      ]
    },
    {
      "cell_type": "code",
      "metadata": {
        "colab": {
          "base_uri": "https://localhost:8080/",
          "height": 381
        },
        "id": "gXvOw4XSv9Fr",
        "outputId": "6cf17bb8-d0c9-4412-a1f9-e8c0f5ec9f15"
      },
      "source": [
        "k_range = range(1, 20)\n",
        "scores = []\n",
        "for k in k_range:\n",
        "    knn = KNeighborsClassifier(n_neighbors = k)\n",
        "    knn.fit(X_train, y_train)\n",
        "    scores.append(knn.score(X_test, y_test))\n",
        "plt.figure()\n",
        "plt.xlabel('k')\n",
        "plt.ylabel('accuracy')\n",
        "plt.scatter(k_range, scores)\n",
        "plt.xticks([0,5,10,15,20])"
      ],
      "execution_count": 52,
      "outputs": [
        {
          "output_type": "execute_result",
          "data": {
            "text/plain": [
              "([<matplotlib.axis.XTick at 0x7f109f1cc110>,\n",
              "  <matplotlib.axis.XTick at 0x7f109f1cc0d0>,\n",
              "  <matplotlib.axis.XTick at 0x7f109f1b5410>,\n",
              "  <matplotlib.axis.XTick at 0x7f109f144850>,\n",
              "  <matplotlib.axis.XTick at 0x7f109f14d210>],\n",
              " <a list of 5 Text major ticklabel objects>)"
            ]
          },
          "metadata": {},
          "execution_count": 52
        },
        {
          "output_type": "display_data",
          "data": {
            "image/png": "[encoded data removed]",
            "text/plain": [
              "<Figure size 432x288 with 1 Axes>"
            ]
          },
          "metadata": {
            "needs_background": "light"
          }
        }
      ]
    }
  ]
}